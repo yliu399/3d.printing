{
 "cells": [
  {
   "cell_type": "code",
   "execution_count": 1,
   "id": "e0a93b14",
   "metadata": {},
   "outputs": [],
   "source": [
    "import torch\n",
    "import torch.nn as nn\n",
    "import torch.nn.functional as F\n",
    "import torch.optim as optim\n",
    "from torchvision import datasets, transforms"
   ]
  },
  {
   "cell_type": "code",
   "execution_count": 2,
   "id": "7c767f94",
   "metadata": {},
   "outputs": [],
   "source": [
    "import pandas as pd\n",
    "import numpy as np\n",
    "from mpl_toolkits.mplot3d import Axes3D  # noqa: F401 unused import"
   ]
  },
  {
   "cell_type": "code",
   "execution_count": 3,
   "id": "de167062",
   "metadata": {},
   "outputs": [],
   "source": [
    "from sklearn.model_selection import train_test_split\n",
    "import matplotlib.pyplot as plt\n",
    "import matplotlib.gridspec as gridspec"
   ]
  },
  {
   "cell_type": "code",
   "execution_count": 4,
   "id": "c28cdbcd",
   "metadata": {},
   "outputs": [],
   "source": [
    "from tqdm.notebook import tqdm\n",
    "from PIL import Image\n",
    "import os"
   ]
  },
  {
   "cell_type": "code",
   "execution_count": 5,
   "id": "0d98702e",
   "metadata": {},
   "outputs": [],
   "source": [
    "## parameters\n",
    "### 五张图片一组\n",
    "step=5"
   ]
  },
  {
   "cell_type": "code",
   "execution_count": 6,
   "id": "9b673c9a",
   "metadata": {},
   "outputs": [
    {
     "data": {
      "text/plain": [
       "device(type='cuda')"
      ]
     },
     "execution_count": 6,
     "metadata": {},
     "output_type": "execute_result"
    }
   ],
   "source": [
    "device = torch.device(\"cuda\" if torch.cuda.is_available() else \"cpu\")\n",
    "device"
   ]
  },
  {
   "cell_type": "markdown",
   "id": "8d024c74",
   "metadata": {},
   "source": [
    "### read images"
   ]
  },
  {
   "cell_type": "code",
   "execution_count": 7,
   "id": "6cb2fd0e",
   "metadata": {},
   "outputs": [],
   "source": [
    "path = r'C:\\Users\\liuya\\Downloads\\3d_printing_research\\clipped_samples_otsu'\n",
    "image_list = os.listdir(path)"
   ]
  },
  {
   "cell_type": "code",
   "execution_count": 8,
   "id": "3aef80c0",
   "metadata": {},
   "outputs": [
    {
     "data": {
      "text/plain": [
       "(250, 730, 3)"
      ]
     },
     "execution_count": 8,
     "metadata": {},
     "output_type": "execute_result"
    }
   ],
   "source": [
    "full_path = os.path.join(path, image_list[350])\n",
    "np.array(Image.open(full_path).convert('RGB')).shape"
   ]
  },
  {
   "cell_type": "code",
   "execution_count": 9,
   "id": "96ecf1d1",
   "metadata": {},
   "outputs": [
    {
     "data": {
      "application/vnd.jupyter.widget-view+json": {
       "model_id": "f0cadd644ae047c9834788d0dcf7fe16",
       "version_major": 2,
       "version_minor": 0
      },
      "text/plain": [
       "  0%|          | 0/4046 [00:00<?, ?it/s]"
      ]
     },
     "metadata": {},
     "output_type": "display_data"
    }
   ],
   "source": [
    "image_ls = []\n",
    "\n",
    "for i in tqdm(image_list):\n",
    "    full_path = os.path.join(path, i)\n",
    "    img = Image.open(full_path).convert('L')\n",
    "    img_array = np.asarray(img)\n",
    "    image_ls.append(img_array)"
   ]
  },
  {
   "cell_type": "code",
   "execution_count": 10,
   "id": "28cf0eb0",
   "metadata": {},
   "outputs": [],
   "source": [
    "def sliding_window(datas,steps=1,width=step):\n",
    "    win_set=[]\n",
    "    for i in tqdm(np.arange(0,len(datas),steps)):\n",
    "        temp=datas[i:i+width]\n",
    "        if len(temp)==width:\n",
    "            win_set.append(np.array(temp)[None,:,:,:])\n",
    "    return np.array(win_set)"
   ]
  },
  {
   "cell_type": "code",
   "execution_count": 11,
   "id": "e5a11219",
   "metadata": {},
   "outputs": [
    {
     "data": {
      "application/vnd.jupyter.widget-view+json": {
       "model_id": "94e713dd06324130a1a5e146f773216b",
       "version_major": 2,
       "version_minor": 0
      },
      "text/plain": [
       "  0%|          | 0/810 [00:00<?, ?it/s]"
      ]
     },
     "metadata": {},
     "output_type": "display_data"
    }
   ],
   "source": [
    "data_input = sliding_window(image_ls,steps=5,width=step)"
   ]
  },
  {
   "cell_type": "code",
   "execution_count": 12,
   "id": "3b3803ec",
   "metadata": {},
   "outputs": [],
   "source": [
    "data_input = data_input / 255"
   ]
  },
  {
   "cell_type": "code",
   "execution_count": 13,
   "id": "b51062c2",
   "metadata": {},
   "outputs": [],
   "source": [
    "data_input = torch.tensor(data_input, dtype=torch.float32)"
   ]
  },
  {
   "cell_type": "code",
   "execution_count": 14,
   "id": "ddb8597b",
   "metadata": {},
   "outputs": [
    {
     "data": {
      "text/plain": [
       "torch.Size([809, 1, 5, 250, 730])"
      ]
     },
     "execution_count": 14,
     "metadata": {},
     "output_type": "execute_result"
    }
   ],
   "source": [
    "## 5-dimensions: (N,C,D,H,W) batch, channels=1 (grey), # images in a sequence, height, weight\n",
    "## for 4-dimensions: (N,C,D,W)\n",
    "data_input.shape"
   ]
  },
  {
   "cell_type": "code",
   "execution_count": 15,
   "id": "fe18f740",
   "metadata": {},
   "outputs": [
    {
     "data": {
      "text/plain": [
       "torch.Size([4045, 1, 250, 730])"
      ]
     },
     "execution_count": 15,
     "metadata": {},
     "output_type": "execute_result"
    }
   ],
   "source": [
    "data_input.view((-1, 1, data_input.shape[3], data_input.shape[4])).shape"
   ]
  },
  {
   "cell_type": "markdown",
   "id": "71eb06ef",
   "metadata": {},
   "source": [
    "### build the model"
   ]
  },
  {
   "cell_type": "code",
   "execution_count": 16,
   "id": "d618d0fd",
   "metadata": {},
   "outputs": [],
   "source": [
    "class Conv_NN_encoder(nn.Module):\n",
    "    def __init__(self):\n",
    "        super().__init__()\n",
    "        \n",
    "        self.encoder = nn.Sequential(\n",
    "            ## 250*730=182500\n",
    "            nn.Linear(250*730, 512),\n",
    "            nn.ReLU(),\n",
    "            nn.Linear(512, 128),\n",
    "            nn.ReLU(),\n",
    "            nn.Linear(128, 32))\n",
    "        \n",
    "    def forward(self, x):\n",
    "        batch_size = x.shape[0]\n",
    "        n_tau = x.shape[2]\n",
    "        #1 means 1 channel, multiply sample size with tau to create this many of 1*W vectors\n",
    "        x = x.view((-1, x.shape[3]*x.shape[4]))\n",
    "        encoded = self.encoder(x)\n",
    "        #back to the previous dimension (sample_size, tau)\n",
    "        encoded = encoded.view((batch_size, n_tau, -1))\n",
    "        return encoded"
   ]
  },
  {
   "cell_type": "code",
   "execution_count": 17,
   "id": "ea5eccf8",
   "metadata": {},
   "outputs": [],
   "source": [
    "class Lstm_encoder(nn.Module):\n",
    "    def __init__(self):\n",
    "        super().__init__()\n",
    "        self.lstm1 = nn.LSTM(input_size=32, hidden_size=16)\n",
    "        \n",
    "    def forward(self, x):\n",
    "        #reshape x to fit the input requirement of lstm\n",
    "        x = x.permute(1, 0, 2)\n",
    "        output, (hidden, cell) = self.lstm1(x)\n",
    "        # output include all timestep, while hidden just include the last timestep.\n",
    "        hidden = hidden.repeat((output.shape[0], 1, 1))\n",
    "        return hidden"
   ]
  },
  {
   "cell_type": "code",
   "execution_count": 18,
   "id": "6f1832b4",
   "metadata": {},
   "outputs": [],
   "source": [
    "class Lstm_decoder(nn.Module):\n",
    "    def __init__(self):\n",
    "        super().__init__()\n",
    "        self.lstm1 = nn.LSTM(input_size=16, hidden_size=32)\n",
    "    \n",
    "    def forward(self, x):\n",
    "        # not need to reshape\n",
    "        output, hn = self.lstm1(x)\n",
    "        #reshape output\n",
    "        output = output.permute(1, 0, 2)\n",
    "        return output"
   ]
  },
  {
   "cell_type": "code",
   "execution_count": 19,
   "id": "e8c15017",
   "metadata": {},
   "outputs": [],
   "source": [
    "class Conv_NN_decoder(nn.Module):\n",
    "    def __init__(self):\n",
    "        super().__init__()\n",
    "        \n",
    "        self.decoder = nn.Sequential(\n",
    "            nn.Linear(32, 128),\n",
    "            nn.ReLU(),\n",
    "            nn.Linear(128, 512),\n",
    "            nn.ReLU(),\n",
    "            nn.Linear(512, 182500),\n",
    "            nn.Sigmoid())\n",
    "\n",
    "        \n",
    "    def forward(self, x):\n",
    "        x = x.contiguous().view((-1, x.shape[2]))\n",
    "        decoded = self.decoder(x)\n",
    "        #output = self.pad(output)\n",
    "        #back to original size\n",
    "        decoded = decoded.view((-1, 1, 5, 250, 730))\n",
    "        return decoded"
   ]
  },
  {
   "cell_type": "code",
   "execution_count": 20,
   "id": "7d52e71e",
   "metadata": {},
   "outputs": [],
   "source": [
    "class net(nn.Module):\n",
    "    def __init__(self, *args):\n",
    "        super().__init__()\n",
    "        self.Conv_NN_encoder = args[0]\n",
    "        self.Lstm_encoder = args[1]\n",
    "        self.Lstm_decoder = args[2]\n",
    "        self.Conv_NN_decoder = args[3]\n",
    "    \n",
    "    def forward(self, x):\n",
    "        output = self.Conv_NN_encoder(x)\n",
    "        output = self.Lstm_encoder(output)\n",
    "        output = self.Lstm_decoder(output)\n",
    "        output = self.Conv_NN_decoder(output)\n",
    "        return output"
   ]
  },
  {
   "cell_type": "code",
   "execution_count": 21,
   "id": "fbffffb5",
   "metadata": {},
   "outputs": [],
   "source": [
    "model = net(Conv_NN_encoder(), Lstm_encoder(), Lstm_decoder(), Conv_NN_decoder())"
   ]
  },
  {
   "cell_type": "markdown",
   "id": "70d3347c",
   "metadata": {},
   "source": [
    "### train the model"
   ]
  },
  {
   "cell_type": "code",
   "execution_count": 22,
   "id": "a63837e5",
   "metadata": {},
   "outputs": [],
   "source": [
    "def train(model, device, train_loader, optimizer, epoch):\n",
    "    \n",
    "    model.train() #trian model\n",
    "    for batch_idx, data in enumerate(train_loader):\n",
    "        data = data.to(device)\n",
    "        optimizer.zero_grad()\n",
    "        output = model(data)\n",
    "\n",
    "        ##calculate loss\n",
    "        loss = 0\n",
    "        for i in range(data.shape[0]):\n",
    "            loss += F.mse_loss(output[i], data[i], reduction='sum')\n",
    "        loss /= data.shape[0]\n",
    "        #loss = F.mse_loss(output, data)\n",
    "        loss.backward()\n",
    "        optimizer.step()\n",
    "        # print result every 10 batch\n",
    "        if batch_idx % 10 == 0:\n",
    "            print('Train Epoch: {} ... Batch: {} ... Loss: {:.8f}'.format(epoch, batch_idx, loss))"
   ]
  },
  {
   "cell_type": "code",
   "execution_count": 23,
   "id": "6a50a13d",
   "metadata": {},
   "outputs": [],
   "source": [
    "def test(model, device, test_loader):\n",
    "    model.eval() #evaluate model\n",
    "    test_loss = 0\n",
    "    with torch.no_grad():\n",
    "        for data in test_loader:\n",
    "            data = data.to(device)\n",
    "            output = model(data)\n",
    "            #calculate sum loss\n",
    "            test_loss += F.mse_loss(output, data, reduction='sum').item()\n",
    "    \n",
    "        test_loss /= len(test_loader.dataset)\n",
    "        print('------------------- Test set: Average loss: {:.4f} ... Samples: {}'.format(test_loss, len(test_loader.dataset)))"
   ]
  },
  {
   "cell_type": "markdown",
   "id": "e537fea0",
   "metadata": {},
   "source": [
    "### train test split"
   ]
  },
  {
   "cell_type": "code",
   "execution_count": 24,
   "id": "7bed9035",
   "metadata": {},
   "outputs": [],
   "source": [
    "train_window_, val_window_ = train_test_split(data_input, test_size=0.2, random_state=2022)"
   ]
  },
  {
   "cell_type": "code",
   "execution_count": 25,
   "id": "098dc0ee",
   "metadata": {},
   "outputs": [],
   "source": [
    "train_loader = torch.utils.data.DataLoader(train_window_, batch_size=16,shuffle=True)\n",
    "test_loader = torch.utils.data.DataLoader(val_window_, batch_size=16,shuffle=False)"
   ]
  },
  {
   "cell_type": "code",
   "execution_count": 26,
   "id": "518180ee",
   "metadata": {},
   "outputs": [
    {
     "data": {
      "text/plain": [
       "device(type='cuda')"
      ]
     },
     "execution_count": 26,
     "metadata": {},
     "output_type": "execute_result"
    }
   ],
   "source": [
    "device = torch.device(\"cuda\" if torch.cuda.is_available() else \"cpu\")\n",
    "device"
   ]
  },
  {
   "cell_type": "code",
   "execution_count": 27,
   "id": "69bb49f7",
   "metadata": {},
   "outputs": [],
   "source": [
    "model = model.to(device)"
   ]
  },
  {
   "cell_type": "code",
   "execution_count": 34,
   "id": "f7f1df68",
   "metadata": {},
   "outputs": [],
   "source": [
    "optimizer = optim.Adam(model.parameters(), lr=0.5)"
   ]
  },
  {
   "cell_type": "code",
   "execution_count": 35,
   "id": "de3172ec",
   "metadata": {},
   "outputs": [],
   "source": [
    "epochs = 10"
   ]
  },
  {
   "cell_type": "code",
   "execution_count": 36,
   "id": "98df25f8",
   "metadata": {
    "scrolled": true
   },
   "outputs": [
    {
     "name": "stdout",
     "output_type": "stream",
     "text": [
      "Train Epoch: 1 ... Batch: 0 ... Loss: 23490.80468750\n",
      "Train Epoch: 1 ... Batch: 10 ... Loss: 32708.57226562\n",
      "Train Epoch: 1 ... Batch: 20 ... Loss: 33530.69531250\n",
      "Train Epoch: 1 ... Batch: 30 ... Loss: 22800.57812500\n",
      "Train Epoch: 1 ... Batch: 40 ... Loss: 40667.35937500\n",
      "------------------- Test set: Average loss: 26292.4883 ... Samples: 162\n",
      "Train Epoch: 2 ... Batch: 0 ... Loss: 25772.32031250\n",
      "Train Epoch: 2 ... Batch: 10 ... Loss: 36163.54296875\n",
      "Train Epoch: 2 ... Batch: 20 ... Loss: 25318.92578125\n",
      "Train Epoch: 2 ... Batch: 30 ... Loss: 23073.33203125\n",
      "Train Epoch: 2 ... Batch: 40 ... Loss: 26609.96289062\n",
      "------------------- Test set: Average loss: 26247.7859 ... Samples: 162\n",
      "Train Epoch: 3 ... Batch: 0 ... Loss: 28436.42578125\n",
      "Train Epoch: 3 ... Batch: 10 ... Loss: 32434.58984375\n",
      "Train Epoch: 3 ... Batch: 20 ... Loss: 30098.04101562\n",
      "Train Epoch: 3 ... Batch: 30 ... Loss: 18843.65039062\n",
      "Train Epoch: 3 ... Batch: 40 ... Loss: 21970.05273438\n",
      "------------------- Test set: Average loss: 26702.1202 ... Samples: 162\n",
      "Train Epoch: 4 ... Batch: 0 ... Loss: 21942.60937500\n",
      "Train Epoch: 4 ... Batch: 10 ... Loss: 29203.47265625\n",
      "Train Epoch: 4 ... Batch: 20 ... Loss: 21190.67187500\n",
      "Train Epoch: 4 ... Batch: 30 ... Loss: 33118.08984375\n",
      "Train Epoch: 4 ... Batch: 40 ... Loss: 32655.15820312\n",
      "------------------- Test set: Average loss: 26012.0916 ... Samples: 162\n",
      "Train Epoch: 5 ... Batch: 0 ... Loss: 25680.45507812\n",
      "Train Epoch: 5 ... Batch: 10 ... Loss: 19118.31445312\n",
      "Train Epoch: 5 ... Batch: 20 ... Loss: 20379.71289062\n",
      "Train Epoch: 5 ... Batch: 30 ... Loss: 30260.70898438\n",
      "Train Epoch: 5 ... Batch: 40 ... Loss: 29430.58007812\n",
      "------------------- Test set: Average loss: 26467.7246 ... Samples: 162\n",
      "Train Epoch: 6 ... Batch: 0 ... Loss: 37038.12500000\n",
      "Train Epoch: 6 ... Batch: 10 ... Loss: 33222.47265625\n",
      "Train Epoch: 6 ... Batch: 20 ... Loss: 20624.84375000\n",
      "Train Epoch: 6 ... Batch: 30 ... Loss: 30285.57226562\n",
      "Train Epoch: 6 ... Batch: 40 ... Loss: 16320.64453125\n",
      "------------------- Test set: Average loss: 26237.7002 ... Samples: 162\n",
      "Train Epoch: 7 ... Batch: 0 ... Loss: 26853.89843750\n",
      "Train Epoch: 7 ... Batch: 10 ... Loss: 27693.41015625\n",
      "Train Epoch: 7 ... Batch: 20 ... Loss: 32367.74218750\n",
      "Train Epoch: 7 ... Batch: 30 ... Loss: 31088.42382812\n",
      "Train Epoch: 7 ... Batch: 40 ... Loss: 33086.61328125\n",
      "------------------- Test set: Average loss: 26066.0948 ... Samples: 162\n",
      "Train Epoch: 8 ... Batch: 0 ... Loss: 37423.44921875\n",
      "Train Epoch: 8 ... Batch: 10 ... Loss: 24613.14843750\n",
      "Train Epoch: 8 ... Batch: 20 ... Loss: 29468.23242188\n",
      "Train Epoch: 8 ... Batch: 30 ... Loss: 25715.86328125\n",
      "Train Epoch: 8 ... Batch: 40 ... Loss: 26653.98242188\n",
      "------------------- Test set: Average loss: 26440.6244 ... Samples: 162\n",
      "Train Epoch: 9 ... Batch: 0 ... Loss: 23904.95312500\n",
      "Train Epoch: 9 ... Batch: 10 ... Loss: 20574.54882812\n",
      "Train Epoch: 9 ... Batch: 20 ... Loss: 21885.83789062\n",
      "Train Epoch: 9 ... Batch: 30 ... Loss: 32646.25976562\n",
      "Train Epoch: 9 ... Batch: 40 ... Loss: 15239.84960938\n",
      "------------------- Test set: Average loss: 26280.8375 ... Samples: 162\n",
      "Train Epoch: 10 ... Batch: 0 ... Loss: 33446.65234375\n",
      "Train Epoch: 10 ... Batch: 10 ... Loss: 22570.37500000\n",
      "Train Epoch: 10 ... Batch: 20 ... Loss: 21165.12890625\n",
      "Train Epoch: 10 ... Batch: 30 ... Loss: 22070.46875000\n",
      "Train Epoch: 10 ... Batch: 40 ... Loss: 33500.28515625\n",
      "------------------- Test set: Average loss: 26158.2660 ... Samples: 162\n"
     ]
    }
   ],
   "source": [
    "for epoch in range(1, epochs + 1):\n",
    "    train(model, device, train_loader, optimizer, epoch)\n",
    "    test(model, device, test_loader)"
   ]
  },
  {
   "cell_type": "code",
   "execution_count": null,
   "id": "0fc3c302",
   "metadata": {},
   "outputs": [],
   "source": []
  }
 ],
 "metadata": {
  "kernelspec": {
   "display_name": "Python 3 (ipykernel)",
   "language": "python",
   "name": "python3"
  },
  "language_info": {
   "codemirror_mode": {
    "name": "ipython",
    "version": 3
   },
   "file_extension": ".py",
   "mimetype": "text/x-python",
   "name": "python",
   "nbconvert_exporter": "python",
   "pygments_lexer": "ipython3",
   "version": "3.9.7"
  }
 },
 "nbformat": 4,
 "nbformat_minor": 5
}
