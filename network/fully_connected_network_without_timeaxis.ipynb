{
 "cells": [
  {
   "cell_type": "code",
   "execution_count": 1,
   "id": "2bf1101d",
   "metadata": {},
   "outputs": [],
   "source": [
    "import torch\n",
    "import torch.nn as nn\n",
    "import torch.nn.functional as F\n",
    "import torch.optim as optim\n",
    "from torchvision import datasets, transforms"
   ]
  },
  {
   "cell_type": "code",
   "execution_count": 2,
   "id": "de1ae107",
   "metadata": {},
   "outputs": [],
   "source": [
    "import pandas as pd\n",
    "import numpy as np\n",
    "from mpl_toolkits.mplot3d import Axes3D  # noqa: F401 unused import"
   ]
  },
  {
   "cell_type": "code",
   "execution_count": 3,
   "id": "6b883e1b",
   "metadata": {},
   "outputs": [],
   "source": [
    "from sklearn.model_selection import train_test_split\n",
    "import matplotlib.pyplot as plt\n",
    "import matplotlib.gridspec as gridspec"
   ]
  },
  {
   "cell_type": "code",
   "execution_count": 4,
   "id": "ae69e611",
   "metadata": {},
   "outputs": [],
   "source": [
    "from tqdm.notebook import tqdm\n",
    "from PIL import Image\n",
    "import os"
   ]
  },
  {
   "cell_type": "code",
   "execution_count": 5,
   "id": "3d5e1a7c",
   "metadata": {},
   "outputs": [],
   "source": [
    "from torchinfo import summary"
   ]
  },
  {
   "cell_type": "markdown",
   "id": "b842f554",
   "metadata": {},
   "source": [
    "### read images"
   ]
  },
  {
   "cell_type": "code",
   "execution_count": 6,
   "id": "2c46db36",
   "metadata": {},
   "outputs": [],
   "source": [
    "path = r'C:\\Users\\liuya\\Downloads\\3d_printing_research\\clipped_samples_otsu'\n",
    "## path = r'C:\\Users\\liuya\\Downloads\\3d_printing_research\\clipped_samples'\n",
    "image_list = os.listdir(path)"
   ]
  },
  {
   "cell_type": "code",
   "execution_count": 7,
   "id": "01aa86cd",
   "metadata": {},
   "outputs": [
    {
     "data": {
      "text/plain": [
       "(250, 730, 3)"
      ]
     },
     "execution_count": 7,
     "metadata": {},
     "output_type": "execute_result"
    }
   ],
   "source": [
    "full_path = os.path.join(path, image_list[350])\n",
    "np.array(Image.open(full_path).convert('RGB')).shape"
   ]
  },
  {
   "cell_type": "code",
   "execution_count": 8,
   "id": "921a343a",
   "metadata": {},
   "outputs": [
    {
     "data": {
      "application/vnd.jupyter.widget-view+json": {
       "model_id": "2d362c7e7b4c47ff9972365901dade97",
       "version_major": 2,
       "version_minor": 0
      },
      "text/plain": [
       "  0%|          | 0/4046 [00:00<?, ?it/s]"
      ]
     },
     "metadata": {},
     "output_type": "display_data"
    }
   ],
   "source": [
    "image_ls = []\n",
    "\n",
    "for i in tqdm(image_list):\n",
    "    full_path = os.path.join(path, i)\n",
    "    img = Image.open(full_path).convert('L')\n",
    "    img_array = np.asarray(img).flatten()\n",
    "    image_ls.append(img_array)"
   ]
  },
  {
   "cell_type": "code",
   "execution_count": 9,
   "id": "3023d22d",
   "metadata": {},
   "outputs": [],
   "source": [
    "### normalize\n",
    "data_input = np.array(image_ls)"
   ]
  },
  {
   "cell_type": "code",
   "execution_count": 10,
   "id": "dcbe5af5",
   "metadata": {},
   "outputs": [
    {
     "data": {
      "text/plain": [
       "(4046, 182500)"
      ]
     },
     "execution_count": 10,
     "metadata": {},
     "output_type": "execute_result"
    }
   ],
   "source": [
    "data_input.shape"
   ]
  },
  {
   "cell_type": "code",
   "execution_count": 11,
   "id": "e5ccffbf",
   "metadata": {},
   "outputs": [],
   "source": [
    "data_input = np.divide((data_input-np.min(data_input)), (np.max(data_input)-np.min(data_input)))"
   ]
  },
  {
   "cell_type": "code",
   "execution_count": 12,
   "id": "6a494be3",
   "metadata": {},
   "outputs": [],
   "source": [
    "## data_input = torch.tensor(data_input[:,None,:,:], dtype=torch.float32)\n",
    "data_input = torch.tensor(data_input, dtype=torch.float32)"
   ]
  },
  {
   "cell_type": "markdown",
   "id": "ad56b6bc",
   "metadata": {},
   "source": [
    "### build the model"
   ]
  },
  {
   "cell_type": "code",
   "execution_count": 13,
   "id": "dffafbd7",
   "metadata": {},
   "outputs": [],
   "source": [
    "class Autoencoder(nn.Module):\n",
    "    def __init__(self):\n",
    "        super().__init__()\n",
    "    \n",
    "        self.encoder = nn.Sequential(\n",
    "            ## 250*730=182500\n",
    "            nn.Linear(250*730, 512),\n",
    "            nn.ReLU(),\n",
    "            nn.Linear(512, 128),\n",
    "            nn.ReLU(),\n",
    "            nn.Linear(128, 32))\n",
    "\n",
    "        self.decoder = nn.Sequential(\n",
    "            nn.Linear(32, 128),\n",
    "            nn.ReLU(),\n",
    "            nn.Linear(128, 512),\n",
    "            nn.ReLU(),\n",
    "            nn.Linear(512, 182500),\n",
    "            nn.Sigmoid())\n",
    "    \n",
    "    def forward(self, x):\n",
    "        encoded = self.encoder(x)\n",
    "        decoded = self.decoder(encoded)\n",
    "        return decoded"
   ]
  },
  {
   "cell_type": "code",
   "execution_count": 14,
   "id": "e203cfd2",
   "metadata": {},
   "outputs": [],
   "source": [
    "model = Autoencoder()"
   ]
  },
  {
   "cell_type": "markdown",
   "id": "7c275f52",
   "metadata": {},
   "source": [
    "### train the model"
   ]
  },
  {
   "cell_type": "code",
   "execution_count": 15,
   "id": "27b63c19",
   "metadata": {},
   "outputs": [],
   "source": [
    "def train(model, device, train_loader, optimizer, epoch):\n",
    "    \n",
    "    model.train() #trian model\n",
    "    for batch_idx, data in enumerate(train_loader):\n",
    "        data = data.to(device)\n",
    "        optimizer.zero_grad()\n",
    "        output = model(data)\n",
    "\n",
    "        ##calculate loss\n",
    "        ##loss = 0\n",
    "        ##for i in range(data.shape[0]):\n",
    "            ##loss += F.mse_loss(output[i], data[i], reduction='sum')\n",
    "        ##loss /= data.shape[0]\n",
    "        loss = F.binary_cross_entropy(output, data)\n",
    "        loss.backward()\n",
    "        optimizer.step()\n",
    "        # print result every 10 batch\n",
    "        if batch_idx % 10 == 0:\n",
    "            print('Train Epoch: {} ... Batch: {} ... Loss: {:.8f}'.format(epoch, batch_idx, loss))"
   ]
  },
  {
   "cell_type": "code",
   "execution_count": 16,
   "id": "25aefaed",
   "metadata": {},
   "outputs": [],
   "source": [
    "def test(model, device, test_loader):\n",
    "    model.eval() #evaluate model\n",
    "    test_loss = 0\n",
    "    with torch.no_grad():\n",
    "        for data in test_loader:\n",
    "            data = data.to(device)\n",
    "            output = model(data)\n",
    "            #calculate sum loss\n",
    "            test_loss += F.mse_loss(output, data, reduction='sum').item()\n",
    "    \n",
    "        test_loss /= len(test_loader.dataset)\n",
    "        print('------------------- Test set: Average loss: {:.4f} ... Samples: {}'.format(test_loss, len(test_loader.dataset)))"
   ]
  },
  {
   "cell_type": "markdown",
   "id": "6ccf4996",
   "metadata": {},
   "source": [
    "### train and test split"
   ]
  },
  {
   "cell_type": "code",
   "execution_count": 17,
   "id": "a10eafe4",
   "metadata": {},
   "outputs": [],
   "source": [
    "train_window_, val_window_ = train_test_split(data_input, test_size=0.2, random_state=2022)"
   ]
  },
  {
   "cell_type": "code",
   "execution_count": 18,
   "id": "0f9b7cf5",
   "metadata": {},
   "outputs": [
    {
     "data": {
      "text/plain": [
       "torch.Size([3236, 182500])"
      ]
     },
     "execution_count": 18,
     "metadata": {},
     "output_type": "execute_result"
    }
   ],
   "source": [
    "train_window_.shape"
   ]
  },
  {
   "cell_type": "code",
   "execution_count": 19,
   "id": "7de11bc0",
   "metadata": {},
   "outputs": [],
   "source": [
    "train_loader = torch.utils.data.DataLoader(train_window_, batch_size=16,shuffle=True)\n",
    "test_loader = torch.utils.data.DataLoader(val_window_, batch_size=16,shuffle=False)"
   ]
  },
  {
   "cell_type": "code",
   "execution_count": 20,
   "id": "2290e897",
   "metadata": {},
   "outputs": [
    {
     "data": {
      "text/plain": [
       "device(type='cuda')"
      ]
     },
     "execution_count": 20,
     "metadata": {},
     "output_type": "execute_result"
    }
   ],
   "source": [
    "device = torch.device(\"cuda\" if torch.cuda.is_available() else \"cpu\")\n",
    "device"
   ]
  },
  {
   "cell_type": "code",
   "execution_count": 21,
   "id": "1dafccfe",
   "metadata": {},
   "outputs": [],
   "source": [
    "model = model.to(device)"
   ]
  },
  {
   "cell_type": "code",
   "execution_count": 49,
   "id": "592254fe",
   "metadata": {},
   "outputs": [],
   "source": [
    "optimizer = optim.Adam(model.parameters(), lr=0.000000001)"
   ]
  },
  {
   "cell_type": "code",
   "execution_count": 50,
   "id": "3e46e19c",
   "metadata": {},
   "outputs": [],
   "source": [
    "epochs = 10"
   ]
  },
  {
   "cell_type": "code",
   "execution_count": 51,
   "id": "255c041b",
   "metadata": {
    "scrolled": true
   },
   "outputs": [
    {
     "name": "stdout",
     "output_type": "stream",
     "text": [
      "Train Epoch: 1 ... Batch: 0 ... Loss: 0.00242020\n",
      "Train Epoch: 1 ... Batch: 10 ... Loss: 0.00263217\n",
      "Train Epoch: 1 ... Batch: 20 ... Loss: 0.00189608\n",
      "Train Epoch: 1 ... Batch: 30 ... Loss: 0.00195276\n",
      "Train Epoch: 1 ... Batch: 40 ... Loss: 0.00215103\n",
      "Train Epoch: 1 ... Batch: 50 ... Loss: 0.00245692\n",
      "Train Epoch: 1 ... Batch: 60 ... Loss: 0.00189895\n",
      "Train Epoch: 1 ... Batch: 70 ... Loss: 0.00208054\n",
      "Train Epoch: 1 ... Batch: 80 ... Loss: 0.00253756\n",
      "Train Epoch: 1 ... Batch: 90 ... Loss: 0.00248354\n",
      "Train Epoch: 1 ... Batch: 100 ... Loss: 0.00243812\n",
      "Train Epoch: 1 ... Batch: 110 ... Loss: 0.00215753\n",
      "Train Epoch: 1 ... Batch: 120 ... Loss: 0.00210191\n",
      "Train Epoch: 1 ... Batch: 130 ... Loss: 0.00210343\n",
      "Train Epoch: 1 ... Batch: 140 ... Loss: 0.00231227\n",
      "Train Epoch: 1 ... Batch: 150 ... Loss: 0.00212364\n",
      "Train Epoch: 1 ... Batch: 160 ... Loss: 0.00135696\n",
      "Train Epoch: 1 ... Batch: 170 ... Loss: 0.00252128\n",
      "Train Epoch: 1 ... Batch: 180 ... Loss: 0.00268235\n",
      "Train Epoch: 1 ... Batch: 190 ... Loss: 0.00181536\n",
      "Train Epoch: 1 ... Batch: 200 ... Loss: 0.00215749\n",
      "------------------- Test set: Average loss: 320.6007 ... Samples: 810\n",
      "Train Epoch: 2 ... Batch: 0 ... Loss: 0.00228033\n",
      "Train Epoch: 2 ... Batch: 10 ... Loss: 0.00200190\n",
      "Train Epoch: 2 ... Batch: 20 ... Loss: 0.00280450\n",
      "Train Epoch: 2 ... Batch: 30 ... Loss: 0.00214284\n",
      "Train Epoch: 2 ... Batch: 40 ... Loss: 0.00200540\n",
      "Train Epoch: 2 ... Batch: 50 ... Loss: 0.00200488\n",
      "Train Epoch: 2 ... Batch: 60 ... Loss: 0.00202528\n",
      "Train Epoch: 2 ... Batch: 70 ... Loss: 0.00223388\n",
      "Train Epoch: 2 ... Batch: 80 ... Loss: 0.00231905\n",
      "Train Epoch: 2 ... Batch: 90 ... Loss: 0.00191224\n",
      "Train Epoch: 2 ... Batch: 100 ... Loss: 0.00280913\n",
      "Train Epoch: 2 ... Batch: 110 ... Loss: 0.00155997\n",
      "Train Epoch: 2 ... Batch: 120 ... Loss: 0.00208890\n",
      "Train Epoch: 2 ... Batch: 130 ... Loss: 0.00191311\n",
      "Train Epoch: 2 ... Batch: 140 ... Loss: 0.00193208\n",
      "Train Epoch: 2 ... Batch: 150 ... Loss: 0.00200227\n",
      "Train Epoch: 2 ... Batch: 160 ... Loss: 0.00189158\n",
      "Train Epoch: 2 ... Batch: 170 ... Loss: 0.00213936\n",
      "Train Epoch: 2 ... Batch: 180 ... Loss: 0.00240795\n",
      "Train Epoch: 2 ... Batch: 190 ... Loss: 0.00195328\n",
      "Train Epoch: 2 ... Batch: 200 ... Loss: 0.00156921\n",
      "------------------- Test set: Average loss: 320.6001 ... Samples: 810\n",
      "Train Epoch: 3 ... Batch: 0 ... Loss: 0.00232720\n",
      "Train Epoch: 3 ... Batch: 10 ... Loss: 0.00186150\n",
      "Train Epoch: 3 ... Batch: 20 ... Loss: 0.00225602\n",
      "Train Epoch: 3 ... Batch: 30 ... Loss: 0.00199844\n",
      "Train Epoch: 3 ... Batch: 40 ... Loss: 0.00257970\n",
      "Train Epoch: 3 ... Batch: 50 ... Loss: 0.00195929\n",
      "Train Epoch: 3 ... Batch: 60 ... Loss: 0.00245613\n",
      "Train Epoch: 3 ... Batch: 70 ... Loss: 0.00268611\n",
      "Train Epoch: 3 ... Batch: 80 ... Loss: 0.00242530\n",
      "Train Epoch: 3 ... Batch: 90 ... Loss: 0.00178833\n",
      "Train Epoch: 3 ... Batch: 100 ... Loss: 0.00186792\n",
      "Train Epoch: 3 ... Batch: 110 ... Loss: 0.00203124\n",
      "Train Epoch: 3 ... Batch: 120 ... Loss: 0.00206452\n",
      "Train Epoch: 3 ... Batch: 130 ... Loss: 0.00195934\n",
      "Train Epoch: 3 ... Batch: 140 ... Loss: 0.00198594\n",
      "Train Epoch: 3 ... Batch: 150 ... Loss: 0.00202977\n",
      "Train Epoch: 3 ... Batch: 160 ... Loss: 0.00192581\n",
      "Train Epoch: 3 ... Batch: 170 ... Loss: 0.00248357\n",
      "Train Epoch: 3 ... Batch: 180 ... Loss: 0.00233726\n",
      "Train Epoch: 3 ... Batch: 190 ... Loss: 0.00222580\n",
      "Train Epoch: 3 ... Batch: 200 ... Loss: 0.00232144\n",
      "------------------- Test set: Average loss: 320.6003 ... Samples: 810\n",
      "Train Epoch: 4 ... Batch: 0 ... Loss: 0.00197492\n",
      "Train Epoch: 4 ... Batch: 10 ... Loss: 0.00222094\n",
      "Train Epoch: 4 ... Batch: 20 ... Loss: 0.00223120\n",
      "Train Epoch: 4 ... Batch: 30 ... Loss: 0.00241487\n",
      "Train Epoch: 4 ... Batch: 40 ... Loss: 0.00217332\n",
      "Train Epoch: 4 ... Batch: 50 ... Loss: 0.00174951\n",
      "Train Epoch: 4 ... Batch: 60 ... Loss: 0.00182237\n",
      "Train Epoch: 4 ... Batch: 70 ... Loss: 0.00206025\n",
      "Train Epoch: 4 ... Batch: 80 ... Loss: 0.00199275\n",
      "Train Epoch: 4 ... Batch: 90 ... Loss: 0.00234647\n",
      "Train Epoch: 4 ... Batch: 100 ... Loss: 0.00257226\n",
      "Train Epoch: 4 ... Batch: 110 ... Loss: 0.00209226\n",
      "Train Epoch: 4 ... Batch: 120 ... Loss: 0.00251582\n",
      "Train Epoch: 4 ... Batch: 130 ... Loss: 0.00267703\n",
      "Train Epoch: 4 ... Batch: 140 ... Loss: 0.00252332\n",
      "Train Epoch: 4 ... Batch: 150 ... Loss: 0.00208289\n",
      "Train Epoch: 4 ... Batch: 160 ... Loss: 0.00162837\n",
      "Train Epoch: 4 ... Batch: 170 ... Loss: 0.00221239\n",
      "Train Epoch: 4 ... Batch: 180 ... Loss: 0.00225477\n",
      "Train Epoch: 4 ... Batch: 190 ... Loss: 0.00211726\n",
      "Train Epoch: 4 ... Batch: 200 ... Loss: 0.00198306\n",
      "------------------- Test set: Average loss: 320.6007 ... Samples: 810\n",
      "Train Epoch: 5 ... Batch: 0 ... Loss: 0.00202858\n",
      "Train Epoch: 5 ... Batch: 10 ... Loss: 0.00251085\n",
      "Train Epoch: 5 ... Batch: 20 ... Loss: 0.00234704\n",
      "Train Epoch: 5 ... Batch: 30 ... Loss: 0.00221716\n",
      "Train Epoch: 5 ... Batch: 40 ... Loss: 0.00200852\n",
      "Train Epoch: 5 ... Batch: 50 ... Loss: 0.00297104\n",
      "Train Epoch: 5 ... Batch: 60 ... Loss: 0.00225339\n",
      "Train Epoch: 5 ... Batch: 70 ... Loss: 0.00241903\n",
      "Train Epoch: 5 ... Batch: 80 ... Loss: 0.00229240\n",
      "Train Epoch: 5 ... Batch: 90 ... Loss: 0.00225055\n",
      "Train Epoch: 5 ... Batch: 100 ... Loss: 0.00202282\n",
      "Train Epoch: 5 ... Batch: 110 ... Loss: 0.00230720\n",
      "Train Epoch: 5 ... Batch: 120 ... Loss: 0.00247201\n",
      "Train Epoch: 5 ... Batch: 130 ... Loss: 0.00196270\n",
      "Train Epoch: 5 ... Batch: 140 ... Loss: 0.00188841\n",
      "Train Epoch: 5 ... Batch: 150 ... Loss: 0.00224078\n",
      "Train Epoch: 5 ... Batch: 160 ... Loss: 0.00219561\n",
      "Train Epoch: 5 ... Batch: 170 ... Loss: 0.00183305\n",
      "Train Epoch: 5 ... Batch: 180 ... Loss: 0.00173094\n",
      "Train Epoch: 5 ... Batch: 190 ... Loss: 0.00250056\n",
      "Train Epoch: 5 ... Batch: 200 ... Loss: 0.00218043\n",
      "------------------- Test set: Average loss: 320.6022 ... Samples: 810\n",
      "Train Epoch: 6 ... Batch: 0 ... Loss: 0.00255270\n",
      "Train Epoch: 6 ... Batch: 10 ... Loss: 0.00246580\n",
      "Train Epoch: 6 ... Batch: 20 ... Loss: 0.00211894\n",
      "Train Epoch: 6 ... Batch: 30 ... Loss: 0.00201062\n",
      "Train Epoch: 6 ... Batch: 40 ... Loss: 0.00168029\n",
      "Train Epoch: 6 ... Batch: 50 ... Loss: 0.00240428\n",
      "Train Epoch: 6 ... Batch: 60 ... Loss: 0.00283366\n",
      "Train Epoch: 6 ... Batch: 70 ... Loss: 0.00211845\n",
      "Train Epoch: 6 ... Batch: 80 ... Loss: 0.00194438\n",
      "Train Epoch: 6 ... Batch: 90 ... Loss: 0.00243752\n",
      "Train Epoch: 6 ... Batch: 100 ... Loss: 0.00227187\n",
      "Train Epoch: 6 ... Batch: 110 ... Loss: 0.00199850\n",
      "Train Epoch: 6 ... Batch: 120 ... Loss: 0.00151016\n",
      "Train Epoch: 6 ... Batch: 130 ... Loss: 0.00185654\n",
      "Train Epoch: 6 ... Batch: 140 ... Loss: 0.00271604\n",
      "Train Epoch: 6 ... Batch: 150 ... Loss: 0.00254093\n",
      "Train Epoch: 6 ... Batch: 160 ... Loss: 0.00257468\n",
      "Train Epoch: 6 ... Batch: 170 ... Loss: 0.00228455\n",
      "Train Epoch: 6 ... Batch: 180 ... Loss: 0.00265556\n",
      "Train Epoch: 6 ... Batch: 190 ... Loss: 0.00231510\n",
      "Train Epoch: 6 ... Batch: 200 ... Loss: 0.00300604\n",
      "------------------- Test set: Average loss: 320.6028 ... Samples: 810\n",
      "Train Epoch: 7 ... Batch: 0 ... Loss: 0.00209740\n",
      "Train Epoch: 7 ... Batch: 10 ... Loss: 0.00208743\n",
      "Train Epoch: 7 ... Batch: 20 ... Loss: 0.00226436\n",
      "Train Epoch: 7 ... Batch: 30 ... Loss: 0.00223272\n",
      "Train Epoch: 7 ... Batch: 40 ... Loss: 0.00182899\n",
      "Train Epoch: 7 ... Batch: 50 ... Loss: 0.00217079\n",
      "Train Epoch: 7 ... Batch: 60 ... Loss: 0.00241030\n",
      "Train Epoch: 7 ... Batch: 70 ... Loss: 0.00197303\n",
      "Train Epoch: 7 ... Batch: 80 ... Loss: 0.00203994\n",
      "Train Epoch: 7 ... Batch: 90 ... Loss: 0.00215026\n",
      "Train Epoch: 7 ... Batch: 100 ... Loss: 0.00248237\n",
      "Train Epoch: 7 ... Batch: 110 ... Loss: 0.00244030\n",
      "Train Epoch: 7 ... Batch: 120 ... Loss: 0.00218162\n",
      "Train Epoch: 7 ... Batch: 130 ... Loss: 0.00250278\n",
      "Train Epoch: 7 ... Batch: 140 ... Loss: 0.00208286\n",
      "Train Epoch: 7 ... Batch: 150 ... Loss: 0.00227987\n",
      "Train Epoch: 7 ... Batch: 160 ... Loss: 0.00142271\n",
      "Train Epoch: 7 ... Batch: 170 ... Loss: 0.00222224\n",
      "Train Epoch: 7 ... Batch: 180 ... Loss: 0.00233541\n",
      "Train Epoch: 7 ... Batch: 190 ... Loss: 0.00193247\n",
      "Train Epoch: 7 ... Batch: 200 ... Loss: 0.00270930\n",
      "------------------- Test set: Average loss: 320.6024 ... Samples: 810\n",
      "Train Epoch: 8 ... Batch: 0 ... Loss: 0.00185178\n",
      "Train Epoch: 8 ... Batch: 10 ... Loss: 0.00218034\n",
      "Train Epoch: 8 ... Batch: 20 ... Loss: 0.00200475\n",
      "Train Epoch: 8 ... Batch: 30 ... Loss: 0.00248646\n",
      "Train Epoch: 8 ... Batch: 40 ... Loss: 0.00218039\n",
      "Train Epoch: 8 ... Batch: 50 ... Loss: 0.00195413\n"
     ]
    },
    {
     "name": "stdout",
     "output_type": "stream",
     "text": [
      "Train Epoch: 8 ... Batch: 60 ... Loss: 0.00148119\n",
      "Train Epoch: 8 ... Batch: 70 ... Loss: 0.00200900\n",
      "Train Epoch: 8 ... Batch: 80 ... Loss: 0.00236974\n",
      "Train Epoch: 8 ... Batch: 90 ... Loss: 0.00233832\n",
      "Train Epoch: 8 ... Batch: 100 ... Loss: 0.00205090\n",
      "Train Epoch: 8 ... Batch: 110 ... Loss: 0.00215746\n",
      "Train Epoch: 8 ... Batch: 120 ... Loss: 0.00191953\n",
      "Train Epoch: 8 ... Batch: 130 ... Loss: 0.00226372\n",
      "Train Epoch: 8 ... Batch: 140 ... Loss: 0.00240449\n",
      "Train Epoch: 8 ... Batch: 150 ... Loss: 0.00199966\n",
      "Train Epoch: 8 ... Batch: 160 ... Loss: 0.00216773\n",
      "Train Epoch: 8 ... Batch: 170 ... Loss: 0.00250912\n",
      "Train Epoch: 8 ... Batch: 180 ... Loss: 0.00240336\n",
      "Train Epoch: 8 ... Batch: 190 ... Loss: 0.00201938\n",
      "Train Epoch: 8 ... Batch: 200 ... Loss: 0.00219977\n",
      "------------------- Test set: Average loss: 320.6011 ... Samples: 810\n",
      "Train Epoch: 9 ... Batch: 0 ... Loss: 0.00263438\n",
      "Train Epoch: 9 ... Batch: 10 ... Loss: 0.00209354\n",
      "Train Epoch: 9 ... Batch: 20 ... Loss: 0.00202761\n",
      "Train Epoch: 9 ... Batch: 30 ... Loss: 0.00188094\n",
      "Train Epoch: 9 ... Batch: 40 ... Loss: 0.00217396\n",
      "Train Epoch: 9 ... Batch: 50 ... Loss: 0.00186627\n",
      "Train Epoch: 9 ... Batch: 60 ... Loss: 0.00152903\n",
      "Train Epoch: 9 ... Batch: 70 ... Loss: 0.00229089\n",
      "Train Epoch: 9 ... Batch: 80 ... Loss: 0.00177284\n",
      "Train Epoch: 9 ... Batch: 90 ... Loss: 0.00215602\n",
      "Train Epoch: 9 ... Batch: 100 ... Loss: 0.00215639\n",
      "Train Epoch: 9 ... Batch: 110 ... Loss: 0.00253374\n",
      "Train Epoch: 9 ... Batch: 120 ... Loss: 0.00192142\n",
      "Train Epoch: 9 ... Batch: 130 ... Loss: 0.00223580\n",
      "Train Epoch: 9 ... Batch: 140 ... Loss: 0.00226949\n",
      "Train Epoch: 9 ... Batch: 150 ... Loss: 0.00183552\n",
      "Train Epoch: 9 ... Batch: 160 ... Loss: 0.00239485\n",
      "Train Epoch: 9 ... Batch: 170 ... Loss: 0.00211849\n",
      "Train Epoch: 9 ... Batch: 180 ... Loss: 0.00225921\n",
      "Train Epoch: 9 ... Batch: 190 ... Loss: 0.00186759\n",
      "Train Epoch: 9 ... Batch: 200 ... Loss: 0.00222675\n",
      "------------------- Test set: Average loss: 320.6018 ... Samples: 810\n",
      "Train Epoch: 10 ... Batch: 0 ... Loss: 0.00274312\n",
      "Train Epoch: 10 ... Batch: 10 ... Loss: 0.00236188\n",
      "Train Epoch: 10 ... Batch: 20 ... Loss: 0.00199356\n",
      "Train Epoch: 10 ... Batch: 30 ... Loss: 0.00298925\n",
      "Train Epoch: 10 ... Batch: 40 ... Loss: 0.00198145\n",
      "Train Epoch: 10 ... Batch: 50 ... Loss: 0.00282534\n",
      "Train Epoch: 10 ... Batch: 60 ... Loss: 0.00259627\n",
      "Train Epoch: 10 ... Batch: 70 ... Loss: 0.00235920\n",
      "Train Epoch: 10 ... Batch: 80 ... Loss: 0.00170480\n",
      "Train Epoch: 10 ... Batch: 90 ... Loss: 0.00206243\n",
      "Train Epoch: 10 ... Batch: 100 ... Loss: 0.00231485\n",
      "Train Epoch: 10 ... Batch: 110 ... Loss: 0.00207130\n",
      "Train Epoch: 10 ... Batch: 120 ... Loss: 0.00240077\n",
      "Train Epoch: 10 ... Batch: 130 ... Loss: 0.00211498\n",
      "Train Epoch: 10 ... Batch: 140 ... Loss: 0.00273261\n",
      "Train Epoch: 10 ... Batch: 150 ... Loss: 0.00226453\n",
      "Train Epoch: 10 ... Batch: 160 ... Loss: 0.00257491\n",
      "Train Epoch: 10 ... Batch: 170 ... Loss: 0.00187507\n",
      "Train Epoch: 10 ... Batch: 180 ... Loss: 0.00240345\n",
      "Train Epoch: 10 ... Batch: 190 ... Loss: 0.00237148\n",
      "Train Epoch: 10 ... Batch: 200 ... Loss: 0.00209820\n",
      "------------------- Test set: Average loss: 320.6013 ... Samples: 810\n"
     ]
    }
   ],
   "source": [
    "for epoch in range(1, epochs + 1):\n",
    "    train(model, device, train_loader, optimizer, epoch)\n",
    "    test(model, device, test_loader)"
   ]
  },
  {
   "cell_type": "code",
   "execution_count": 65,
   "id": "37874c54",
   "metadata": {},
   "outputs": [],
   "source": [
    "### save the model\n",
    "torch.save(model.state_dict(), 'fully_connected_network_bceloss.pth')"
   ]
  },
  {
   "cell_type": "markdown",
   "id": "ea8f460e",
   "metadata": {},
   "source": [
    "### test the result"
   ]
  },
  {
   "cell_type": "code",
   "execution_count": 61,
   "id": "3fa2855b",
   "metadata": {},
   "outputs": [
    {
     "data": {
      "image/png": "[encoded data removed]",
      "text/plain": [
       "<PIL.Image.Image image mode=L size=730x250 at 0x24B451D6340>"
      ]
     },
     "execution_count": 61,
     "metadata": {},
     "output_type": "execute_result"
    }
   ],
   "source": [
    "## cut the image\n",
    "original = data_input[750].numpy().reshape((250,730))*255\n",
    "Image.fromarray(original.astype('uint8'), 'L')"
   ]
  },
  {
   "cell_type": "code",
   "execution_count": 63,
   "id": "03d2de38",
   "metadata": {},
   "outputs": [],
   "source": [
    "model.eval() #evaluate model\n",
    "with torch.no_grad():\n",
    "    data = data_input[750]\n",
    "    #data = data[None,:,:,:]\n",
    "    data = data.to(device)\n",
    "    output = model(data)\n",
    "    output = output.cpu()"
   ]
  },
  {
   "cell_type": "code",
   "execution_count": 64,
   "id": "2badd409",
   "metadata": {},
   "outputs": [
    {
     "data": {
      "image/png": "[encoded data removed]",
      "text/plain": [
       "<PIL.Image.Image image mode=L size=730x250 at 0x24B5052BC40>"
      ]
     },
     "execution_count": 64,
     "metadata": {},
     "output_type": "execute_result"
    }
   ],
   "source": [
    "predict = output.numpy().reshape((250,730))*255\n",
    "Image.fromarray(predict.astype('uint8'), 'L')"
   ]
  },
  {
   "cell_type": "markdown",
   "id": "8b1e6738",
   "metadata": {},
   "source": [
    "### reload and test"
   ]
  },
  {
   "cell_type": "code",
   "execution_count": 22,
   "id": "d5f999fe",
   "metadata": {},
   "outputs": [
    {
     "data": {
      "text/plain": [
       "torch.Size([4046, 182500])"
      ]
     },
     "execution_count": 22,
     "metadata": {},
     "output_type": "execute_result"
    }
   ],
   "source": [
    "data_input.shape"
   ]
  },
  {
   "cell_type": "code",
   "execution_count": 23,
   "id": "d61e014b",
   "metadata": {},
   "outputs": [
    {
     "data": {
      "text/plain": [
       "<All keys matched successfully>"
      ]
     },
     "execution_count": 23,
     "metadata": {},
     "output_type": "execute_result"
    }
   ],
   "source": [
    "model.load_state_dict(torch.load('fully_connected_network.pth'))"
   ]
  },
  {
   "cell_type": "code",
   "execution_count": 39,
   "id": "71be2975",
   "metadata": {},
   "outputs": [],
   "source": [
    "device = torch.device(\"cuda\" if torch.cuda.is_available() else \"cpu\")\n",
    "model = model.to(device)"
   ]
  },
  {
   "cell_type": "code",
   "execution_count": 40,
   "id": "8c801dbb",
   "metadata": {},
   "outputs": [],
   "source": [
    "## extract encoder layers by hook\n",
    "activation = {}\n",
    "def get_activation(name):\n",
    "    def hook(model, input, output):\n",
    "        activation[name] = output.detach()\n",
    "    return hook"
   ]
  },
  {
   "cell_type": "code",
   "execution_count": 41,
   "id": "6c0e8fb6",
   "metadata": {},
   "outputs": [
    {
     "data": {
      "text/plain": [
       "<torch.utils.hooks.RemovableHandle at 0x25428c14d60>"
      ]
     },
     "execution_count": 41,
     "metadata": {},
     "output_type": "execute_result"
    }
   ],
   "source": [
    "model.encoder.register_forward_hook(get_activation('encoder'))"
   ]
  },
  {
   "cell_type": "code",
   "execution_count": 59,
   "id": "06400b63",
   "metadata": {},
   "outputs": [
    {
     "data": {
      "application/vnd.jupyter.widget-view+json": {
       "model_id": "23c2729053f44d1e9a9104361498c999",
       "version_major": 2,
       "version_minor": 0
      },
      "text/plain": [
       "  0%|          | 0/4046 [00:00<?, ?it/s]"
      ]
     },
     "metadata": {},
     "output_type": "display_data"
    }
   ],
   "source": [
    "extract_rlt = []\n",
    "\n",
    "for i in tqdm(range(data_input.shape[0])):\n",
    "    data = data_input[i]\n",
    "    data = data.to(device)\n",
    "    output = model(data)\n",
    "    encoder_ = activation['encoder'].cpu().numpy()\n",
    "    extract_rlt.append(encoder_)"
   ]
  },
  {
   "cell_type": "code",
   "execution_count": 66,
   "id": "3634d4fe",
   "metadata": {},
   "outputs": [],
   "source": [
    "ext_rlt = np.array(extract_rlt)"
   ]
  },
  {
   "cell_type": "markdown",
   "id": "c4bad63a",
   "metadata": {},
   "source": [
    "### projection"
   ]
  },
  {
   "cell_type": "code",
   "execution_count": 62,
   "id": "d258b437",
   "metadata": {},
   "outputs": [],
   "source": [
    "# try pca to reduce dimension\n",
    "from sklearn.decomposition import PCA"
   ]
  },
  {
   "cell_type": "code",
   "execution_count": 67,
   "id": "f4b555d5",
   "metadata": {},
   "outputs": [
    {
     "data": {
      "text/plain": [
       "PCA(n_components=2)"
      ]
     },
     "execution_count": 67,
     "metadata": {},
     "output_type": "execute_result"
    }
   ],
   "source": [
    "pca = PCA(n_components=2)\n",
    "pca.fit(ext_rlt)"
   ]
  },
  {
   "cell_type": "code",
   "execution_count": 68,
   "id": "61b9a4e4",
   "metadata": {},
   "outputs": [
    {
     "name": "stdout",
     "output_type": "stream",
     "text": [
      "[0.37666494 0.31658056]\n",
      "[35854.16  30134.822]\n"
     ]
    }
   ],
   "source": [
    "print(pca.explained_variance_ratio_)\n",
    "print(pca.explained_variance_)"
   ]
  },
  {
   "cell_type": "code",
   "execution_count": 69,
   "id": "c466fcd4",
   "metadata": {},
   "outputs": [],
   "source": [
    "valid_ = pca.transform(ext_rlt)"
   ]
  },
  {
   "cell_type": "code",
   "execution_count": 73,
   "id": "7bf72f75",
   "metadata": {},
   "outputs": [
    {
     "data": {
      "image/png": "[encoded data removed]",
      "text/plain": [
       "<Figure size 720x360 with 1 Axes>"
      ]
     },
     "metadata": {
      "needs_background": "light"
     },
     "output_type": "display_data"
    }
   ],
   "source": [
    "plt.figure(figsize=(10,5))\n",
    "plt.scatter(valid_[:, 0], valid_[:, 1],marker='o', alpha=0.3)\n",
    "plt.show()"
   ]
  },
  {
   "cell_type": "code",
   "execution_count": 77,
   "id": "77818a9a",
   "metadata": {},
   "outputs": [
    {
     "data": {
      "text/plain": [
       "array([ -8.789503, -55.380623], dtype=float32)"
      ]
     },
     "execution_count": 77,
     "metadata": {},
     "output_type": "execute_result"
    }
   ],
   "source": [
    "valid_[0]"
   ]
  },
  {
   "cell_type": "code",
   "execution_count": 78,
   "id": "df295bc5",
   "metadata": {},
   "outputs": [
    {
     "data": {
      "text/plain": [
       "array([-95.30346, 137.8185 ], dtype=float32)"
      ]
     },
     "execution_count": 78,
     "metadata": {},
     "output_type": "execute_result"
    }
   ],
   "source": [
    "valid_[350]"
   ]
  },
  {
   "cell_type": "markdown",
   "id": "537213a2",
   "metadata": {},
   "source": [
    "### save features"
   ]
  },
  {
   "cell_type": "code",
   "execution_count": 66,
   "id": "e831d1d4",
   "metadata": {},
   "outputs": [],
   "source": [
    "## extract encoder layers by hook\n",
    "activation = {}\n",
    "def get_activation(name):\n",
    "    def hook(model, input, output):\n",
    "        activation[name] = output.detach()\n",
    "    return hook"
   ]
  },
  {
   "cell_type": "code",
   "execution_count": 67,
   "id": "a9441079",
   "metadata": {},
   "outputs": [
    {
     "data": {
      "text/plain": [
       "<torch.utils.hooks.RemovableHandle at 0x24b5052c9a0>"
      ]
     },
     "execution_count": 67,
     "metadata": {},
     "output_type": "execute_result"
    }
   ],
   "source": [
    "model.encoder.register_forward_hook(get_activation('encoder'))"
   ]
  },
  {
   "cell_type": "code",
   "execution_count": 68,
   "id": "86a06879",
   "metadata": {},
   "outputs": [
    {
     "data": {
      "application/vnd.jupyter.widget-view+json": {
       "model_id": "7e7ff4361b79415c982574aceee5b1a9",
       "version_major": 2,
       "version_minor": 0
      },
      "text/plain": [
       "  0%|          | 0/4046 [00:00<?, ?it/s]"
      ]
     },
     "metadata": {},
     "output_type": "display_data"
    }
   ],
   "source": [
    "extract_rlt = []\n",
    "\n",
    "for i in tqdm(range(data_input.shape[0])):\n",
    "    data = data_input[i]\n",
    "    data = data.to(device)\n",
    "    output = model(data)\n",
    "    encoder_ = activation['encoder'].cpu().numpy()\n",
    "    extract_rlt.append(encoder_)"
   ]
  },
  {
   "cell_type": "code",
   "execution_count": 72,
   "id": "c5ababeb",
   "metadata": {},
   "outputs": [],
   "source": [
    "np.save(\"extract_features.npy\", np.array(extract_rlt))"
   ]
  },
  {
   "cell_type": "code",
   "execution_count": null,
   "id": "12938671",
   "metadata": {},
   "outputs": [],
   "source": []
  }
 ],
 "metadata": {
  "kernelspec": {
   "display_name": "Python 3 (ipykernel)",
   "language": "python",
   "name": "python3"
  },
  "language_info": {
   "codemirror_mode": {
    "name": "ipython",
    "version": 3
   },
   "file_extension": ".py",
   "mimetype": "text/x-python",
   "name": "python",
   "nbconvert_exporter": "python",
   "pygments_lexer": "ipython3",
   "version": "3.9.7"
  }
 },
 "nbformat": 4,
 "nbformat_minor": 5
}
