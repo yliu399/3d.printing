{
 "cells": [
  {
   "cell_type": "code",
   "execution_count": 316,
   "id": "ef9d7c7b",
   "metadata": {},
   "outputs": [],
   "source": [
    "import pandas as pd\n",
    "import numpy as np\n",
    "import matplotlib.pyplot as plt\n",
    "\n",
    "from PIL import Image\n",
    "import os\n",
    "from tqdm.notebook import tqdm"
   ]
  },
  {
   "cell_type": "code",
   "execution_count": 317,
   "id": "e0b40550",
   "metadata": {},
   "outputs": [],
   "source": [
    "import sys\n",
    "import cv2\n",
    "## sys.path.insert(0, r'D:\\Research\\images\\[vg-images] Sample_1Dr_01')"
   ]
  },
  {
   "cell_type": "code",
   "execution_count": 318,
   "id": "67a78f99",
   "metadata": {},
   "outputs": [],
   "source": [
    "path = 'clipped_samples_otsu'\n",
    "image_list = os.listdir(path)\n",
    "\n",
    "full_path = os.path.join(path, image_list[750])\n",
    "img = Image.open(full_path).convert('RGB')\n",
    "img_array = np.asarray(img)"
   ]
  },
  {
   "cell_type": "code",
   "execution_count": 319,
   "id": "526d9b0d",
   "metadata": {},
   "outputs": [
    {
     "data": {
      "application/vnd.jupyter.widget-view+json": {
       "model_id": "e0a18c3489964b6b8daf94bc428ce7f3",
       "version_major": 2,
       "version_minor": 0
      },
      "text/plain": [
       "  0%|          | 0/4046 [00:00<?, ?it/s]"
      ]
     },
     "metadata": {},
     "output_type": "display_data"
    }
   ],
   "source": [
    "label_ls = []\n",
    "\n",
    "for i in tqdm(image_list):\n",
    "    full_path = os.path.join(path, i)\n",
    "    img = Image.open(full_path).convert('RGB')\n",
    "    img_array = np.asarray(img)\n",
    "    ### gray image (1-dimension)\n",
    "    gray = cv2.cvtColor(img_array,cv2.COLOR_BGR2GRAY)\n",
    "    ### find all contours\n",
    "    contours, hierarchy = cv2.findContours(gray,cv2.RETR_TREE,cv2.CHAIN_APPROX_SIMPLE)\n",
    "    img_label = 0\n",
    "    for j in range(len(contours)):\n",
    "        x, y, w, h = cv2.boundingRect(contours[j])\n",
    "        ### 如果middle point 是黑色 认为是pole\n",
    "        if gray[int(y+h/2), int(x+w/2)] == 0:\n",
    "            ### pole 离surface很近 不能算\n",
    "            if gray[int(y-h/2), int(x+w/2)] != 0:\n",
    "                if h*w > 20:\n",
    "                    img_label += 1\n",
    "    label_ls.append(img_label)"
   ]
  },
  {
   "cell_type": "code",
   "execution_count": 320,
   "id": "198edc7f",
   "metadata": {},
   "outputs": [
    {
     "data": {
      "text/plain": [
       "(array([269, 322], dtype=int64),)"
      ]
     },
     "execution_count": 320,
     "metadata": {},
     "output_type": "execute_result"
    }
   ],
   "source": [
    "np.where(np.array(label_ls) > 14)"
   ]
  },
  {
   "cell_type": "code",
   "execution_count": 280,
   "id": "9f087d8a",
   "metadata": {},
   "outputs": [],
   "source": [
    "### save the result\n",
    "np.save('label_01.npy', np.where(np.array(label_ls) == 0, 0, 1))"
   ]
  },
  {
   "cell_type": "markdown",
   "id": "d9412b4d",
   "metadata": {},
   "source": [
    "### check the result"
   ]
  },
  {
   "cell_type": "code",
   "execution_count": 321,
   "id": "c3d96446",
   "metadata": {},
   "outputs": [],
   "source": [
    "full_path = os.path.join(path, image_list[237])\n",
    "img = Image.open(full_path).convert('RGB')\n",
    "img_array = np.asarray(img)"
   ]
  },
  {
   "cell_type": "code",
   "execution_count": 322,
   "id": "d78076c1",
   "metadata": {},
   "outputs": [],
   "source": [
    "gray = cv2.cvtColor(img_array,cv2.COLOR_BGR2GRAY)"
   ]
  },
  {
   "cell_type": "code",
   "execution_count": 323,
   "id": "ed5627e8",
   "metadata": {},
   "outputs": [
    {
     "data": {
      "image/png": "[encoded data removed]",
      "text/plain": [
       "<PIL.Image.Image image mode=L size=730x250 at 0x1F27E513850>"
      ]
     },
     "execution_count": 323,
     "metadata": {},
     "output_type": "execute_result"
    }
   ],
   "source": [
    "Image.fromarray(gray)"
   ]
  },
  {
   "cell_type": "code",
   "execution_count": 324,
   "id": "11b754a7",
   "metadata": {},
   "outputs": [],
   "source": [
    "contours, hierarchy = cv2.findContours(gray,cv2.RETR_TREE,cv2.CHAIN_APPROX_SIMPLE)"
   ]
  },
  {
   "cell_type": "code",
   "execution_count": 325,
   "id": "3840e3ce",
   "metadata": {},
   "outputs": [
    {
     "data": {
      "text/plain": [
       "16"
      ]
     },
     "execution_count": 325,
     "metadata": {},
     "output_type": "execute_result"
    }
   ],
   "source": [
    "len(contours)"
   ]
  },
  {
   "cell_type": "code",
   "execution_count": 326,
   "id": "ff8d3b73",
   "metadata": {},
   "outputs": [],
   "source": [
    "contours_2 = []\n",
    "for j in range(len(contours)):\n",
    "    x, y, w, h = cv2.boundingRect(contours[j])\n",
    "    ### 如果middle point 是黑色 认为是pole\n",
    "    if gray[int(y+h/2), int(x+w/2)] == 0:\n",
    "        ### pole 离surface很近 不能算\n",
    "        if gray[int(y-h/2), int(x+w/2)] != 0:\n",
    "            if h*w > 10:\n",
    "                contours_2.append(contours[j])"
   ]
  },
  {
   "cell_type": "code",
   "execution_count": 327,
   "id": "54314fb3",
   "metadata": {},
   "outputs": [
    {
     "data": {
      "image/png": "[encoded data removed]",
      "text/plain": [
       "<PIL.Image.Image image mode=RGB size=730x250 at 0x1F27F93E880>"
      ]
     },
     "execution_count": 327,
     "metadata": {},
     "output_type": "execute_result"
    }
   ],
   "source": [
    "img_array = np.asarray(img)\n",
    "Image.fromarray(cv2.drawContours(img_array, contours_2,-1,(0,255,0),1))"
   ]
  },
  {
   "cell_type": "code",
   "execution_count": 315,
   "id": "7a7f5ead",
   "metadata": {},
   "outputs": [
    {
     "data": {
      "application/vnd.jupyter.widget-view+json": {
       "model_id": "0c881a1a5d464dab9317629cf1c8d419",
       "version_major": 2,
       "version_minor": 0
      },
      "text/plain": [
       "  0%|          | 0/4046 [00:00<?, ?it/s]"
      ]
     },
     "metadata": {},
     "output_type": "display_data"
    }
   ],
   "source": [
    "label_ls = []\n",
    "\n",
    "for i in tqdm(image_list):\n",
    "    full_path = os.path.join(path, i)\n",
    "    img = Image.open(full_path).convert('RGB')\n",
    "    img_array = np.asarray(img)\n",
    "    ### gray image (1-dimension)\n",
    "    gray = cv2.cvtColor(img_array,cv2.COLOR_BGR2GRAY)\n",
    "    ### find all contours\n",
    "    contours, hierarchy = cv2.findContours(gray,cv2.RETR_TREE,cv2.CHAIN_APPROX_SIMPLE)\n",
    "    contours_2 = []\n",
    "    for j in range(len(contours)):\n",
    "        x, y, w, h = cv2.boundingRect(contours[j])\n",
    "        ### 如果middle point 是黑色 认为是pole\n",
    "        if gray[int(y+h/2), int(x+w/2)] == 0:\n",
    "            ### pole 离surface很近 不能算\n",
    "            if gray[int(y-h/2), int(x+w/2)] != 0:\n",
    "                if h*w > 10:\n",
    "                    contours_2.append(contours[j])\n",
    "    \n",
    "    Image.fromarray(cv2.drawContours(img_array, contours_2,-1,(0,255,0),1)).save('clipped_samples_otsu_label/' + i)"
   ]
  },
  {
   "cell_type": "code",
   "execution_count": 246,
   "id": "843f149d",
   "metadata": {},
   "outputs": [
    {
     "data": {
      "text/plain": [
       "((35, 1, 2), 16)"
      ]
     },
     "execution_count": 246,
     "metadata": {},
     "output_type": "execute_result"
    }
   ],
   "source": [
    "contours[9].shape, len(contours)"
   ]
  },
  {
   "cell_type": "code",
   "execution_count": 194,
   "id": "6c977c20",
   "metadata": {},
   "outputs": [],
   "source": [
    "x, y, w, h = cv2.boundingRect(contours[6])"
   ]
  },
  {
   "cell_type": "code",
   "execution_count": 195,
   "id": "451af4f9",
   "metadata": {},
   "outputs": [
    {
     "data": {
      "text/plain": [
       "(0, 4, 6)"
      ]
     },
     "execution_count": 195,
     "metadata": {},
     "output_type": "execute_result"
    }
   ],
   "source": [
    "gray[int(y+h/2), int(x+w/2)], h, w"
   ]
  },
  {
   "cell_type": "code",
   "execution_count": 214,
   "id": "8e69a8b8",
   "metadata": {},
   "outputs": [
    {
     "data": {
      "image/png": "[encoded data removed]",
      "text/plain": [
       "<PIL.Image.Image image mode=L size=6x8 at 0x1F27E513520>"
      ]
     },
     "execution_count": 214,
     "metadata": {},
     "output_type": "execute_result"
    }
   ],
   "source": [
    "Image.fromarray(gray[y-h:y+h,x:x+w])"
   ]
  },
  {
   "cell_type": "code",
   "execution_count": 217,
   "id": "2ab1feac",
   "metadata": {},
   "outputs": [
    {
     "data": {
      "text/plain": [
       "0"
      ]
     },
     "execution_count": 217,
     "metadata": {},
     "output_type": "execute_result"
    }
   ],
   "source": [
    "gray[int(y-h/2), int(x+w/2)]"
   ]
  },
  {
   "cell_type": "code",
   "execution_count": 197,
   "id": "10f5c523",
   "metadata": {},
   "outputs": [
    {
     "data": {
      "text/plain": [
       "0"
      ]
     },
     "execution_count": 197,
     "metadata": {},
     "output_type": "execute_result"
    }
   ],
   "source": [
    "gray[int(y+h/2), int(x+w/2)]"
   ]
  },
  {
   "cell_type": "code",
   "execution_count": null,
   "id": "e13c519b",
   "metadata": {},
   "outputs": [],
   "source": []
  },
  {
   "cell_type": "code",
   "execution_count": null,
   "id": "0cd97de7",
   "metadata": {},
   "outputs": [],
   "source": []
  }
 ],
 "metadata": {
  "kernelspec": {
   "display_name": "Python 3 (ipykernel)",
   "language": "python",
   "name": "python3"
  },
  "language_info": {
   "codemirror_mode": {
    "name": "ipython",
    "version": 3
   },
   "file_extension": ".py",
   "mimetype": "text/x-python",
   "name": "python",
   "nbconvert_exporter": "python",
   "pygments_lexer": "ipython3",
   "version": "3.9.7"
  }
 },
 "nbformat": 4,
 "nbformat_minor": 5
}
