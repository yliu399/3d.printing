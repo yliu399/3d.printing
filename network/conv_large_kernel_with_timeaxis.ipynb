{
 "cells": [
  {
   "cell_type": "code",
   "execution_count": 1,
   "id": "d7de8bdf",
   "metadata": {},
   "outputs": [],
   "source": [
    "import torch\n",
    "import torch.nn as nn\n",
    "import torch.nn.functional as F\n",
    "import torch.optim as optim\n",
    "from torchvision import datasets, transforms"
   ]
  },
  {
   "cell_type": "code",
   "execution_count": 2,
   "id": "68778db6",
   "metadata": {},
   "outputs": [],
   "source": [
    "import pandas as pd\n",
    "import numpy as np\n",
    "from mpl_toolkits.mplot3d import Axes3D  # noqa: F401 unused import"
   ]
  },
  {
   "cell_type": "code",
   "execution_count": 3,
   "id": "842f3ad3",
   "metadata": {},
   "outputs": [],
   "source": [
    "from sklearn.model_selection import train_test_split\n",
    "import matplotlib.pyplot as plt\n",
    "import matplotlib.gridspec as gridspec"
   ]
  },
  {
   "cell_type": "code",
   "execution_count": 4,
   "id": "84a846af",
   "metadata": {},
   "outputs": [],
   "source": [
    "from tqdm.notebook import tqdm\n",
    "from PIL import Image\n",
    "import os"
   ]
  },
  {
   "cell_type": "code",
   "execution_count": 5,
   "id": "bae5125c",
   "metadata": {},
   "outputs": [],
   "source": [
    "## parameters\n",
    "### 五张图片一组\n",
    "step=5"
   ]
  },
  {
   "cell_type": "code",
   "execution_count": 6,
   "id": "6b0c1ad6",
   "metadata": {},
   "outputs": [
    {
     "data": {
      "text/plain": [
       "device(type='cuda')"
      ]
     },
     "execution_count": 6,
     "metadata": {},
     "output_type": "execute_result"
    }
   ],
   "source": [
    "device = torch.device(\"cuda\" if torch.cuda.is_available() else \"cpu\")\n",
    "device"
   ]
  },
  {
   "cell_type": "markdown",
   "id": "cd721192",
   "metadata": {},
   "source": [
    "### read images"
   ]
  },
  {
   "cell_type": "code",
   "execution_count": 7,
   "id": "6c7ef21a",
   "metadata": {},
   "outputs": [],
   "source": [
    "path = r'C:\\Users\\liuya\\Downloads\\3d_printing_research\\clipped_samples'\n",
    "image_list = os.listdir(path)"
   ]
  },
  {
   "cell_type": "code",
   "execution_count": 8,
   "id": "41b130e9",
   "metadata": {},
   "outputs": [
    {
     "data": {
      "text/plain": [
       "(250, 730, 3)"
      ]
     },
     "execution_count": 8,
     "metadata": {},
     "output_type": "execute_result"
    }
   ],
   "source": [
    "full_path = os.path.join(path, image_list[350])\n",
    "np.array(Image.open(full_path).convert('RGB')).shape"
   ]
  },
  {
   "cell_type": "code",
   "execution_count": 9,
   "id": "c945c345",
   "metadata": {},
   "outputs": [
    {
     "data": {
      "application/vnd.jupyter.widget-view+json": {
       "model_id": "0561394ce8b941b3a8d749a0c4b1c042",
       "version_major": 2,
       "version_minor": 0
      },
      "text/plain": [
       "  0%|          | 0/4046 [00:00<?, ?it/s]"
      ]
     },
     "metadata": {},
     "output_type": "display_data"
    }
   ],
   "source": [
    "image_ls = []\n",
    "\n",
    "for i in tqdm(image_list):\n",
    "    full_path = os.path.join(path, i)\n",
    "    img = Image.open(full_path).convert('L')\n",
    "    img_array = np.asarray(img)\n",
    "    image_ls.append(img_array)"
   ]
  },
  {
   "cell_type": "code",
   "execution_count": 10,
   "id": "34a20ac0",
   "metadata": {},
   "outputs": [],
   "source": [
    "def sliding_window(datas,steps=1,width=step):\n",
    "    win_set=[]\n",
    "    for i in tqdm(np.arange(0,len(datas),steps)):\n",
    "        temp=datas[i:i+width]\n",
    "        if len(temp)==width:\n",
    "            win_set.append(np.array(temp)[None,:,:,:])\n",
    "    return np.array(win_set)"
   ]
  },
  {
   "cell_type": "code",
   "execution_count": 11,
   "id": "adec0a4f",
   "metadata": {},
   "outputs": [
    {
     "data": {
      "application/vnd.jupyter.widget-view+json": {
       "model_id": "70c8a84b6aff4584baa015d7dfdcba26",
       "version_major": 2,
       "version_minor": 0
      },
      "text/plain": [
       "  0%|          | 0/4046 [00:00<?, ?it/s]"
      ]
     },
     "metadata": {},
     "output_type": "display_data"
    }
   ],
   "source": [
    "data_input = sliding_window(image_ls,steps=1,width=step)\n",
    "data_input = torch.tensor(data_input, dtype=torch.float32)"
   ]
  },
  {
   "cell_type": "code",
   "execution_count": 12,
   "id": "c5bb43f3",
   "metadata": {},
   "outputs": [
    {
     "data": {
      "text/plain": [
       "torch.Size([4042, 1, 5, 250, 730])"
      ]
     },
     "execution_count": 12,
     "metadata": {},
     "output_type": "execute_result"
    }
   ],
   "source": [
    "## 5-dimensions: (N,C,D,H,W) batch, channels=1 (grey), # images in a sequence, height, weight\n",
    "## for 4-dimensions: (N,C,D,W)\n",
    "data_input.shape"
   ]
  },
  {
   "cell_type": "code",
   "execution_count": 13,
   "id": "f2584092",
   "metadata": {},
   "outputs": [
    {
     "data": {
      "text/plain": [
       "torch.Size([20210, 1, 250, 730])"
      ]
     },
     "execution_count": 13,
     "metadata": {},
     "output_type": "execute_result"
    }
   ],
   "source": [
    "data_input.view((-1, 1, data_input.shape[3], data_input.shape[4])).shape"
   ]
  },
  {
   "cell_type": "markdown",
   "id": "f9fec3be",
   "metadata": {},
   "source": [
    "### build the model"
   ]
  },
  {
   "cell_type": "code",
   "execution_count": 14,
   "id": "38435189",
   "metadata": {},
   "outputs": [],
   "source": [
    "class Conv_NN_encoder(nn.Module):\n",
    "    def __init__(self):\n",
    "        super().__init__()\n",
    "        self.conv2d1 = nn.Conv2d(1, 16, kernel_size=(10,30))\n",
    "        self.maxpool2d1 = nn.MaxPool2d((3,9), return_indices=True)\n",
    "        self.conv2d2 = nn.Conv2d(16, 8, kernel_size=(10,30))\n",
    "        self.maxpool2d2 = nn.MaxPool2d((3,9), return_indices=True)\n",
    "        self.flatten = nn.Flatten()\n",
    "        self.linear1 = nn.Linear(in_features=920, out_features=128)\n",
    "        \n",
    "    def forward(self, x):\n",
    "        batch_size = x.shape[0]\n",
    "        n_tau = x.shape[2]\n",
    "        #1 means 1 channel, multiply sample size with tau to create this many of 1*W vectors\n",
    "        x = x.view((-1, 1, x.shape[3], x.shape[4]))\n",
    "        output = F.relu(self.conv2d1(x))\n",
    "        output, indices1 = self.maxpool2d1(output)\n",
    "        output = F.relu(self.conv2d2(output))\n",
    "        output, indices2 = self.maxpool2d2(output)\n",
    "        output = self.flatten(output)\n",
    "        output = self.linear1(output)\n",
    "        #back to the previous dimension (sample_size, tau)\n",
    "        output = output.view((batch_size, n_tau, -1))\n",
    "        return output, indices1, indices2"
   ]
  },
  {
   "cell_type": "code",
   "execution_count": 15,
   "id": "a9daa88d",
   "metadata": {},
   "outputs": [],
   "source": [
    "class Lstm_encoder(nn.Module):\n",
    "    def __init__(self):\n",
    "        super().__init__()\n",
    "        self.lstm1 = nn.LSTM(input_size=128, hidden_size=32)\n",
    "        self.lstm2 = nn.LSTM(input_size=32, hidden_size=16)\n",
    "        \n",
    "    def forward(self, x):\n",
    "        #reshape x to fit the input requirement of lstm\n",
    "        x = x.permute(1, 0, 2)\n",
    "        output, hn = self.lstm1(x)\n",
    "        output, (hidden, cell) = self.lstm2(output)\n",
    "        # output include all timestep, while hidden just include the last timestep.\n",
    "        hidden = hidden.repeat((output.shape[0], 1, 1))\n",
    "        return hidden"
   ]
  },
  {
   "cell_type": "code",
   "execution_count": 16,
   "id": "f72a12e0",
   "metadata": {},
   "outputs": [],
   "source": [
    "class Lstm_decoder(nn.Module):\n",
    "    def __init__(self):\n",
    "        super().__init__()\n",
    "        self.lstm1 = nn.LSTM(input_size=16, hidden_size=32)\n",
    "        self.lstm2 = nn.LSTM(input_size=32, hidden_size=128)\n",
    "    \n",
    "    def forward(self, x):\n",
    "        # not need to reshape\n",
    "        output, hn = self.lstm1(x)\n",
    "        output, hn = self.lstm2(output)\n",
    "        #reshape output\n",
    "        output = output.permute(1, 0, 2)\n",
    "        return output"
   ]
  },
  {
   "cell_type": "code",
   "execution_count": 17,
   "id": "94515639",
   "metadata": {},
   "outputs": [],
   "source": [
    "class Conv_NN_decoder(nn.Module):\n",
    "    def __init__(self):\n",
    "        super().__init__()\n",
    "        self.linear1 = nn.Linear(128, 920)\n",
    "        self.maxunpool2d1 = nn.MaxUnpool2d((3,9))\n",
    "        self.conv2d1 = nn.Conv2d(8, 16, kernel_size=(10,30), padding=(9,29))\n",
    "        self.maxunpool2d2 = nn.MaxUnpool2d((3,9))\n",
    "        self.conv2d2 = nn.Conv2d(16, 1, kernel_size=(10,30), padding=(9,29))\n",
    "        #self.pad = nn.ConstantPad2d((9,9,58,0), 0)\n",
    "\n",
    "        \n",
    "    def forward(self, x, indices1, indices2):\n",
    "        x = x.contiguous().view((-1, x.shape[2]))\n",
    "        output = self.linear1(x)\n",
    "        output = output.view((output.shape[0], 8, -1, 5))\n",
    "        output = self.maxunpool2d1(output, indices2, output_size=torch.Size([output.shape[0], 8, 71, 48]))\n",
    "        output = self.conv2d1(output)\n",
    "        output = self.maxunpool2d2(output, indices1, output_size=torch.Size([output.shape[0], 16, 241, 701]))\n",
    "        output = self.conv2d2(output)\n",
    "        #output = self.pad(output)\n",
    "        #back to original size\n",
    "        output = output.view((-1, 1, 5, output.shape[2], output.shape[3]))\n",
    "        return output"
   ]
  },
  {
   "cell_type": "code",
   "execution_count": 18,
   "id": "3af098a5",
   "metadata": {},
   "outputs": [],
   "source": [
    "class net(nn.Module):\n",
    "    def __init__(self, *args):\n",
    "        super().__init__()\n",
    "        self.Conv_NN_encoder = args[0]\n",
    "        self.Lstm_encoder = args[1]\n",
    "        self.Lstm_decoder = args[2]\n",
    "        self.Conv_NN_decoder = args[3]\n",
    "    \n",
    "    def forward(self, x):\n",
    "        output, indc1, indc2 = self.Conv_NN_encoder(x)\n",
    "        output = self.Lstm_encoder(output)\n",
    "        output = self.Lstm_decoder(output)\n",
    "        output = self.Conv_NN_decoder(output, indc1, indc2)\n",
    "        return output"
   ]
  },
  {
   "cell_type": "code",
   "execution_count": 19,
   "id": "bd1f5806",
   "metadata": {},
   "outputs": [],
   "source": [
    "model = net(Conv_NN_encoder(), Lstm_encoder(), Lstm_decoder(), Conv_NN_decoder())"
   ]
  },
  {
   "cell_type": "markdown",
   "id": "3f08bdd1",
   "metadata": {},
   "source": [
    "### train the model"
   ]
  },
  {
   "cell_type": "code",
   "execution_count": 20,
   "id": "dbc6855d",
   "metadata": {},
   "outputs": [],
   "source": [
    "def train(model, device, train_loader, optimizer, epoch):\n",
    "    \n",
    "    model.train() #trian model\n",
    "    for batch_idx, data in enumerate(train_loader):\n",
    "        data = data.to(device)\n",
    "        optimizer.zero_grad()\n",
    "        output = model(data)\n",
    "\n",
    "        ##calculate loss\n",
    "        loss = 0\n",
    "        for i in range(data.shape[0]):\n",
    "            loss += F.mse_loss(output[i], data[i], reduction='sum')\n",
    "        loss /= data.shape[0]\n",
    "        #loss = F.mse_loss(output, data)\n",
    "        loss.backward()\n",
    "        optimizer.step()\n",
    "        # print result every 10 batch\n",
    "        if batch_idx % 10 == 0:\n",
    "            print('Train Epoch: {} ... Batch: {} ... Loss: {:.8f}'.format(epoch, batch_idx, loss))"
   ]
  },
  {
   "cell_type": "code",
   "execution_count": 21,
   "id": "18bebbf5",
   "metadata": {},
   "outputs": [],
   "source": [
    "def test(model, device, test_loader):\n",
    "    model.eval() #evaluate model\n",
    "    test_loss = 0\n",
    "    with torch.no_grad():\n",
    "        for data in test_loader:\n",
    "            data = data.to(device)\n",
    "            output = model(data)\n",
    "            #calculate sum loss\n",
    "            test_loss += F.mse_loss(output, data, reduction='sum').item()\n",
    "    \n",
    "        test_loss /= len(test_loader.dataset)\n",
    "        print('------------------- Test set: Average loss: {:.4f} ... Samples: {}'.format(test_loss, len(test_loader.dataset)))"
   ]
  },
  {
   "cell_type": "markdown",
   "id": "5ccb38ab",
   "metadata": {},
   "source": [
    "### train test split"
   ]
  },
  {
   "cell_type": "code",
   "execution_count": 22,
   "id": "519650cd",
   "metadata": {},
   "outputs": [],
   "source": [
    "train_window_, val_window_ = train_test_split(data_input, test_size=0.2, random_state=2022)"
   ]
  },
  {
   "cell_type": "code",
   "execution_count": 23,
   "id": "14c130fc",
   "metadata": {},
   "outputs": [],
   "source": [
    "train_loader = torch.utils.data.DataLoader(train_window_, batch_size=16,shuffle=True)\n",
    "test_loader = torch.utils.data.DataLoader(val_window_, batch_size=16,shuffle=False)"
   ]
  },
  {
   "cell_type": "code",
   "execution_count": 24,
   "id": "4a014b1a",
   "metadata": {},
   "outputs": [
    {
     "data": {
      "text/plain": [
       "device(type='cuda')"
      ]
     },
     "execution_count": 24,
     "metadata": {},
     "output_type": "execute_result"
    }
   ],
   "source": [
    "device = torch.device(\"cuda\" if torch.cuda.is_available() else \"cpu\")\n",
    "device"
   ]
  },
  {
   "cell_type": "code",
   "execution_count": 25,
   "id": "82739306",
   "metadata": {},
   "outputs": [],
   "source": [
    "model = model.to(device)"
   ]
  },
  {
   "cell_type": "code",
   "execution_count": 26,
   "id": "d99cc4e5",
   "metadata": {},
   "outputs": [],
   "source": [
    "optimizer = optim.Adam(model.parameters(), lr=0.05)"
   ]
  },
  {
   "cell_type": "code",
   "execution_count": 27,
   "id": "aa9b7b83",
   "metadata": {},
   "outputs": [],
   "source": [
    "epochs = 5"
   ]
  },
  {
   "cell_type": "code",
   "execution_count": 28,
   "id": "6743560b",
   "metadata": {},
   "outputs": [
    {
     "name": "stdout",
     "output_type": "stream",
     "text": [
      "Train Epoch: 1 ... Batch: 0 ... Loss: 20522881024.00000000\n",
      "Train Epoch: 1 ... Batch: 10 ... Loss: 4597186048.00000000\n",
      "Train Epoch: 1 ... Batch: 20 ... Loss: 3296682240.00000000\n",
      "Train Epoch: 1 ... Batch: 30 ... Loss: 2894288640.00000000\n",
      "Train Epoch: 1 ... Batch: 40 ... Loss: 2741480448.00000000\n",
      "Train Epoch: 1 ... Batch: 50 ... Loss: 2194238208.00000000\n",
      "Train Epoch: 1 ... Batch: 60 ... Loss: 2363062784.00000000\n",
      "Train Epoch: 1 ... Batch: 70 ... Loss: 2299691264.00000000\n",
      "Train Epoch: 1 ... Batch: 80 ... Loss: 2150546432.00000000\n",
      "Train Epoch: 1 ... Batch: 90 ... Loss: 2253511168.00000000\n",
      "Train Epoch: 1 ... Batch: 100 ... Loss: 2203320064.00000000\n",
      "Train Epoch: 1 ... Batch: 110 ... Loss: 2035593216.00000000\n",
      "Train Epoch: 1 ... Batch: 120 ... Loss: 2289164032.00000000\n",
      "Train Epoch: 1 ... Batch: 130 ... Loss: 2113835264.00000000\n",
      "Train Epoch: 1 ... Batch: 140 ... Loss: 2096688512.00000000\n",
      "Train Epoch: 1 ... Batch: 150 ... Loss: 2196679936.00000000\n",
      "Train Epoch: 1 ... Batch: 160 ... Loss: 2001728384.00000000\n",
      "Train Epoch: 1 ... Batch: 170 ... Loss: 1776089856.00000000\n",
      "Train Epoch: 1 ... Batch: 180 ... Loss: 2104833664.00000000\n",
      "Train Epoch: 1 ... Batch: 190 ... Loss: 2303006464.00000000\n",
      "Train Epoch: 1 ... Batch: 200 ... Loss: 2039214848.00000000\n",
      "------------------- Test set: Average loss: 2138669211.6885 ... Samples: 809\n",
      "Train Epoch: 2 ... Batch: 0 ... Loss: 1936185472.00000000\n",
      "Train Epoch: 2 ... Batch: 10 ... Loss: 1754787712.00000000\n",
      "Train Epoch: 2 ... Batch: 20 ... Loss: 2064400384.00000000\n",
      "Train Epoch: 2 ... Batch: 30 ... Loss: 1779387648.00000000\n",
      "Train Epoch: 2 ... Batch: 40 ... Loss: 1856573312.00000000\n",
      "Train Epoch: 2 ... Batch: 50 ... Loss: 1730307584.00000000\n",
      "Train Epoch: 2 ... Batch: 60 ... Loss: 1724344960.00000000\n",
      "Train Epoch: 2 ... Batch: 70 ... Loss: 1835283072.00000000\n",
      "Train Epoch: 2 ... Batch: 80 ... Loss: 1935734400.00000000\n",
      "Train Epoch: 2 ... Batch: 90 ... Loss: 1603765504.00000000\n",
      "Train Epoch: 2 ... Batch: 100 ... Loss: 1688963328.00000000\n",
      "Train Epoch: 2 ... Batch: 110 ... Loss: 1820357248.00000000\n",
      "Train Epoch: 2 ... Batch: 120 ... Loss: 1523726464.00000000\n",
      "Train Epoch: 2 ... Batch: 130 ... Loss: 1501273344.00000000\n",
      "Train Epoch: 2 ... Batch: 140 ... Loss: 1699536384.00000000\n",
      "Train Epoch: 2 ... Batch: 150 ... Loss: 1334650496.00000000\n",
      "Train Epoch: 2 ... Batch: 160 ... Loss: 1652789632.00000000\n",
      "Train Epoch: 2 ... Batch: 170 ... Loss: 1309648384.00000000\n",
      "Train Epoch: 2 ... Batch: 180 ... Loss: 1513152000.00000000\n",
      "Train Epoch: 2 ... Batch: 190 ... Loss: 1570204800.00000000\n",
      "Train Epoch: 2 ... Batch: 200 ... Loss: 1426175616.00000000\n",
      "------------------- Test set: Average loss: 2184400265.6514 ... Samples: 809\n",
      "Train Epoch: 3 ... Batch: 0 ... Loss: 2562931968.00000000\n",
      "Train Epoch: 3 ... Batch: 10 ... Loss: 1783594752.00000000\n",
      "Train Epoch: 3 ... Batch: 20 ... Loss: 1299513472.00000000\n",
      "Train Epoch: 3 ... Batch: 30 ... Loss: 1338555264.00000000\n",
      "Train Epoch: 3 ... Batch: 40 ... Loss: 1393657728.00000000\n",
      "Train Epoch: 3 ... Batch: 50 ... Loss: 1335146880.00000000\n",
      "Train Epoch: 3 ... Batch: 60 ... Loss: 1500189696.00000000\n",
      "Train Epoch: 3 ... Batch: 70 ... Loss: 1143766272.00000000\n",
      "Train Epoch: 3 ... Batch: 80 ... Loss: 1290030464.00000000\n",
      "Train Epoch: 3 ... Batch: 90 ... Loss: 1527532160.00000000\n",
      "Train Epoch: 3 ... Batch: 100 ... Loss: 1260124928.00000000\n",
      "Train Epoch: 3 ... Batch: 110 ... Loss: 1321467136.00000000\n",
      "Train Epoch: 3 ... Batch: 120 ... Loss: 1146698112.00000000\n",
      "Train Epoch: 3 ... Batch: 130 ... Loss: 1191555712.00000000\n",
      "Train Epoch: 3 ... Batch: 140 ... Loss: 1488759296.00000000\n",
      "Train Epoch: 3 ... Batch: 150 ... Loss: 1678963968.00000000\n",
      "Train Epoch: 3 ... Batch: 160 ... Loss: 1121340416.00000000\n",
      "Train Epoch: 3 ... Batch: 170 ... Loss: 1512365440.00000000\n",
      "Train Epoch: 3 ... Batch: 180 ... Loss: 1175587712.00000000\n",
      "Train Epoch: 3 ... Batch: 190 ... Loss: 1252457344.00000000\n",
      "Train Epoch: 3 ... Batch: 200 ... Loss: 1392913664.00000000\n",
      "------------------- Test set: Average loss: 1401167393.5426 ... Samples: 809\n",
      "Train Epoch: 4 ... Batch: 0 ... Loss: 1526093568.00000000\n",
      "Train Epoch: 4 ... Batch: 10 ... Loss: 1671882752.00000000\n",
      "Train Epoch: 4 ... Batch: 20 ... Loss: 1390814592.00000000\n",
      "Train Epoch: 4 ... Batch: 30 ... Loss: 1592280320.00000000\n",
      "Train Epoch: 4 ... Batch: 40 ... Loss: 1353773824.00000000\n",
      "Train Epoch: 4 ... Batch: 50 ... Loss: 1491701248.00000000\n",
      "Train Epoch: 4 ... Batch: 60 ... Loss: 1342080256.00000000\n",
      "Train Epoch: 4 ... Batch: 70 ... Loss: 1320556544.00000000\n",
      "Train Epoch: 4 ... Batch: 80 ... Loss: 1406158720.00000000\n",
      "Train Epoch: 4 ... Batch: 90 ... Loss: 1558318464.00000000\n",
      "Train Epoch: 4 ... Batch: 100 ... Loss: 1367855232.00000000\n",
      "Train Epoch: 4 ... Batch: 110 ... Loss: 1367112192.00000000\n",
      "Train Epoch: 4 ... Batch: 120 ... Loss: 1226053760.00000000\n",
      "Train Epoch: 4 ... Batch: 130 ... Loss: 1347248256.00000000\n",
      "Train Epoch: 4 ... Batch: 140 ... Loss: 1145632128.00000000\n",
      "Train Epoch: 4 ... Batch: 150 ... Loss: 1262450816.00000000\n",
      "Train Epoch: 4 ... Batch: 160 ... Loss: 1368436096.00000000\n",
      "Train Epoch: 4 ... Batch: 170 ... Loss: 1157232768.00000000\n",
      "Train Epoch: 4 ... Batch: 180 ... Loss: 1330647808.00000000\n",
      "Train Epoch: 4 ... Batch: 190 ... Loss: 1219766528.00000000\n",
      "Train Epoch: 4 ... Batch: 200 ... Loss: 1254568704.00000000\n",
      "------------------- Test set: Average loss: 2297259672.5241 ... Samples: 809\n",
      "Train Epoch: 5 ... Batch: 0 ... Loss: 2323284224.00000000\n",
      "Train Epoch: 5 ... Batch: 10 ... Loss: 1381321856.00000000\n",
      "Train Epoch: 5 ... Batch: 20 ... Loss: 1383273984.00000000\n",
      "Train Epoch: 5 ... Batch: 30 ... Loss: 1457304832.00000000\n",
      "Train Epoch: 5 ... Batch: 40 ... Loss: 1231854592.00000000\n",
      "Train Epoch: 5 ... Batch: 50 ... Loss: 1191489024.00000000\n",
      "Train Epoch: 5 ... Batch: 60 ... Loss: 1221090432.00000000\n",
      "Train Epoch: 5 ... Batch: 70 ... Loss: 1487193856.00000000\n",
      "Train Epoch: 5 ... Batch: 80 ... Loss: 1028780992.00000000\n",
      "Train Epoch: 5 ... Batch: 90 ... Loss: 1167924224.00000000\n",
      "Train Epoch: 5 ... Batch: 100 ... Loss: 1156082432.00000000\n",
      "Train Epoch: 5 ... Batch: 110 ... Loss: 1208104960.00000000\n",
      "Train Epoch: 5 ... Batch: 120 ... Loss: 1074110848.00000000\n",
      "Train Epoch: 5 ... Batch: 130 ... Loss: 1012271808.00000000\n",
      "Train Epoch: 5 ... Batch: 140 ... Loss: 1193269376.00000000\n",
      "Train Epoch: 5 ... Batch: 150 ... Loss: 1793580160.00000000\n",
      "Train Epoch: 5 ... Batch: 160 ... Loss: 1172155136.00000000\n",
      "Train Epoch: 5 ... Batch: 170 ... Loss: 1370405760.00000000\n",
      "Train Epoch: 5 ... Batch: 180 ... Loss: 1166619904.00000000\n",
      "Train Epoch: 5 ... Batch: 190 ... Loss: 1201526144.00000000\n",
      "Train Epoch: 5 ... Batch: 200 ... Loss: 1118768128.00000000\n",
      "------------------- Test set: Average loss: 1221837663.2485 ... Samples: 809\n"
     ]
    }
   ],
   "source": [
    "for epoch in range(1, epochs + 1):\n",
    "    train(model, device, train_loader, optimizer, epoch)\n",
    "    test(model, device, test_loader)"
   ]
  },
  {
   "cell_type": "code",
   "execution_count": null,
   "id": "1f1a9dc8",
   "metadata": {},
   "outputs": [],
   "source": [
    "#### lr=0.5 min_loss=3846104064\n",
    "#### lr=0.1 min_loss=1067529920\n",
    "#### lr=0.05 min_loss=1028780992"
   ]
  }
 ],
 "metadata": {
  "kernelspec": {
   "display_name": "Python 3 (ipykernel)",
   "language": "python",
   "name": "python3"
  },
  "language_info": {
   "codemirror_mode": {
    "name": "ipython",
    "version": 3
   },
   "file_extension": ".py",
   "mimetype": "text/x-python",
   "name": "python",
   "nbconvert_exporter": "python",
   "pygments_lexer": "ipython3",
   "version": "3.9.7"
  }
 },
 "nbformat": 4,
 "nbformat_minor": 5
}
